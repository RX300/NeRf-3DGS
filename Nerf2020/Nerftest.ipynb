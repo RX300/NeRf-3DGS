{
 "cells": [
  {
   "cell_type": "code",
   "execution_count": null,
   "metadata": {
    "collapsed": true
   },
   "outputs": [],
   "source": []
  },
  {
   "cell_type": "code",
   "execution_count": 45,
   "outputs": [
    {
     "name": "stdout",
     "output_type": "stream",
     "text": [
      "images.shape: (106, 100, 100, 3)\n",
      "poses.shape: (106, 4, 4)\n",
      "focal.shape: ()\n",
      "H: 100\n",
      "W: 100\n"
     ]
    },
    {
     "data": {
      "text/plain": "<Figure size 640x480 with 1 Axes>",
      "image/png": "[encoded data removed]"
     },
     "metadata": {},
     "output_type": "display_data"
    }
   ],
   "source": [
    "import matplotlib.pyplot as plt\n",
    "import numpy as np\n",
    "\n",
    "#加载数据\n",
    "data = np.load('tiny_nerf_data.npz')\n",
    "images = data['images'] # 图片\n",
    "poses = data['poses']# 位姿\n",
    "focal = data['focal']# 焦距\n",
    "H,W = images.shape[1:3]# 高和宽\n",
    "print(\"images.shape:\",images.shape) # images.shape--> N,H,W,3 N代表用于train test val的总数量 ，H,W,3分别代表高 宽 通道数\n",
    "print(\"poses.shape:\",poses.shape) # 转置矩阵 N，4,4\n",
    "print(\"focal.shape:\",focal.shape)\n",
    "print(\"H:\",H)\n",
    "print(\"W:\",W)\n",
    "n_train = 100 # 训练使用的照片\n",
    "test_img, test_pose = images[101],poses[101]\n",
    "images = images[:n_train] #从加载的数据里面选100个数据来训练使用（原来是106个-->100个\n",
    "poses = poses[:n_train]\n",
    "plt.imshow(test_img)\n",
    "plt.show()"
   ],
   "metadata": {
    "collapsed": false,
    "pycharm": {
     "name": "#%%\n"
    }
   }
  },
  {
   "cell_type": "code",
   "execution_count": 21,
   "outputs": [],
   "source": [
    "\n",
    "#首先理解论文的MLP结构图，每层为全连接层，并且黑色箭头代表Relu激活，橙色箭头代表没有激活，虚线箭头代表Sigmoid激活(两幅图)，\n",
    "#输入:在一开始，输入的是经过PE操作(位置编码)的5维坐标(位置+角度)，在第5层再次加入输入，在第8层的时候输出 alpha 值，理解为透明度，在第9层继续加入输入，24维度的， 最后通过sigmoid的激活函数输出rgb值，也可以叫color\n",
    "\n",
    "from torch import nn\n",
    "import os\n",
    "import numpy as np\n",
    "import matplotlib.pyplot as plt\n",
    "import torch.nn as nn\n",
    "import torch\n",
    "import torch.nn.functional as F\n",
    "from tqdm import tqdm\n",
    "\n",
    "# 构建Nerf 网络结构\n",
    "class Nerf(nn.Module):\n",
    "    #D=8 netdepth网络的深度 ,也就是网络的层数 layers in network\n",
    "    # W=256 netwidth网络宽度 , 也就每一层的神经元的个数 channels per layer\n",
    "    # input_ch=60 输入的通道,(这里稍微解释下，这里输入的数据是经过位置编码操作的)\n",
    "    # input_ch_views=24  输入经过PE升维的视角数据\n",
    "    # skip=4,  用来决定在什么时候加入 视角数据\n",
    "    # use_view_dirs=True\n",
    "\n",
    "    def __init__(self,D=8,W=256, input_ch=60,input_ch_views=24,skip=4,use_view_dirs=True):\n",
    "        self.D=D\n",
    "        self.W=W\n",
    "        self.input_ch=input_ch\n",
    "        self.input_ch_views=input_ch_views\n",
    "        self.skip=skip\n",
    "        self.use_view_dirs =use_view_dirs\n",
    "       #开始编写网络\n",
    "        self.net =nn.ModuleList([nn.Linear(input_ch,W)])\n",
    "        for i in range(D-1):\n",
    "            if i== skip:#在网络的第5层，添加 60维的输入数据  为什么加？？？ 256-->316\n",
    "                self.net.append(nn.Linear(W+input_ch,W))\n",
    "            else:\n",
    "                self.net.append(nn.Linear(W,W))#这里的意思就是传入的数据是W 维，也就是256维，输出也是256维\n",
    "\n",
    "        self.alpha_linear =nn.Linear(W,1) #输出透明度值的卷积层，由256维输出1维数值\n",
    "        self.feature_linear = nn.Linear(W,W) # 第9层\n",
    "        #上面已经完成了 0-7层的卷积层\n",
    "        if use_view_dirs:# 如果添加使用视角数据，那么在第9层添加24维度的方向数据，并且输出128维的信息\n",
    "            self.proj = nn.Linear(W+input_ch_views,W//2)\n",
    "        else:\n",
    "            self.proj=nn.Linear(W,W//2)# 如果不添加使用视角数据，那么不在第9层添加24维度的方向数据，并且输出128维的信息\n",
    "        self.rgb_linear = nn.Linear(W//2,3)#在最后一层，输入是128维信息，输出的是 rgb值\n",
    "\n",
    "    def forward(self, input_pts, input_views=None):\n",
    "        h = input_pts.clone() # 分别代表 输入的位置信息以及视角信息 or方向信息\n",
    "#         >>> line = [1,2,3,4,5]\n",
    "# >>> for i,j in enumerate(line):\n",
    "# ...     print(i,j)\n",
    "# ...\n",
    "# 0 1\n",
    "# 1 2\n",
    "# 2 3\n",
    "# 3 4\n",
    "# 4 5\n",
    "          #这里的作用就是依次给相连每层添加激活层\n",
    "        for i , _ in enumerate(self.net): #这个循环依次返回 net网络的 索引（也就是层数，从0开始） 以及  索引对应的内容\n",
    "            h = F.relu(self.net[i](h))\n",
    "            if i == self.skip:# 如果遇到第5层，也就是索引为4的时候\n",
    "                h == torch.cat([input_pts,h],-1)\n",
    "        #经过上面8个relu激活层处理，通过最后一个relu层后输出 透明度值\n",
    "        #forward 函数的作用是将输入数据经过网络中各个层的计算和变换后，得到输出结果 （前向传播计算）\n",
    "        alpha = F.relu(self.alpha_linear(h))# 这里可以这么理解，h为经过前面7层处理得到的数据，然后传到alpha_linear层，再对拥有h信息的alpha_linear层进行relu处理，输出alpha值\n",
    "        feature = self.feature_linear #第9个卷积层\n",
    "\n",
    "        if self.use_view_dirs:# 如果添加视角数据，那么在该层通过torch.cat 将其加入原有的信息， 这里的h理解为经过前面8个卷积层前面传播的结果+24维的视角信息\n",
    "            h = torch.cat([feature,input_views],-1)\n",
    "\n",
    "        h =F.relu(self.proj(h))#这里的操作对应于图中 256--》128的激活操作\n",
    "        #128层的网络层最后通过sigmoid激活函数 输出rgb值\n",
    "        rgb= torch.sigmoid(self.rgb_linear(h))\n",
    "\n",
    "        return rgb,alpha\n",
    "\n",
    "# net = Nerf(use_view_dirs=True)\n",
    "# print(net)\n",
    "#\n",
    "# NeRF(\n",
    "#   (net): ModuleList(\n",
    "#     (0): Linear(in_features=60, out_features=256, bias=True)\n",
    "#     (1): Linear(in_features=256, out_features=256, bias=True)\n",
    "#     (2): Linear(in_features=256, out_features=256, bias=True)\n",
    "#     (3): Linear(in_features=256, out_features=256, bias=True)\n",
    "#     (4): Linear(in_features=256, out_features=256, bias=True)\n",
    "#     (5): Linear(in_features=316, out_features=256, bias=True)\n",
    "#     (6): Linear(in_features=256, out_features=256, bias=True)\n",
    "#     (7): Linear(in_features=256, out_features=256, bias=True)\n",
    "#   )\n",
    "\n",
    "\n",
    "# >>> import torch\n",
    "# >>> x = torch.randn(2,3)\n",
    "# >>> x\n",
    "# tensor([[-0.8168, -1.9389,  0.0781],\n",
    "#         [ 0.3570, -1.3199, -0.1600]])\n",
    "# >>> torch.cat((x,x),0)\n",
    "# tensor([[-0.8168, -1.9389,  0.0781],\n",
    "#         [ 0.3570, -1.3199, -0.1600],\n",
    "#         [-0.8168, -1.9389,  0.0781],\n",
    "#         [ 0.3570, -1.3199, -0.1600]])\n",
    "# >>> torch.cat((x,x),-1)\n",
    "# tensor([[-0.8168, -1.9389,  0.0781, -0.8168, -1.9389,  0.0781],\n",
    "#         [ 0.3570, -1.3199, -0.1600,  0.3570, -1.3199, -0.1600]])\n",
    "#射线经过空间上的每个点的密度（只和空间坐标相关）和颜色（同时依赖空间坐标和入射角）进行某种积分就可以得到每个像素的颜色。当每个像素的颜色都计算出来，那么这个视角下的图像就被渲染出来了\n",
    "\n",
    "#np.concatenate函数对矩阵在第0维度上做合并操作"
   ],
   "metadata": {
    "collapsed": false,
    "pycharm": {
     "name": "#%%\n"
    }
   }
  },
  {
   "cell_type": "code",
   "execution_count": 22,
   "outputs": [],
   "source": [
    "def PE(x, L):#位置编码 低频信息转换为高频信息-  x代表输入给编码器的数据维度，也就是3，2,5， l为数学公式中的L\n",
    "    #这个函数对x坐标的3个值和向量d 的2个值都进行了编码。实验中设置了 L=10 for y(x)，L=4 for y（d）\n",
    "#这里为了方便统一处理，应该会影响最后效果\n",
    "    #深度网络更偏向于学习空间中的低频信号。如果对于跳变剧烈的信号（高频），仅仅使用坐标表示作为输入的深度网络是难以拟合的。因此作者将坐标表示通过高频函数映射到了更高维空间中。\n",
    "  pai = 3.14\n",
    "  pe = []\n",
    "  for i in range(L):\n",
    "    for fn in [torch.sin, torch.cos]:#依次 先后读取sin cos 函数\n",
    "      pe.append(fn(2.**i * x * pai))\n",
    "  return torch.cat(pe, -1)  #对tensor 进行拼接"
   ],
   "metadata": {
    "collapsed": false,
    "pycharm": {
     "name": "#%%\n"
    }
   }
  },
  {
   "cell_type": "code",
   "execution_count": 35,
   "outputs": [],
   "source": [
    "#光线采集 。   屏幕坐标系---》相机坐标系---》世界坐标系\n",
    "\n",
    "# #射线经过空间上的每个点的密度（只和空间坐标相关）和颜色（同时依赖空间坐标和入射角），对二者进行某种积分就可以得到每个像素的颜色。当每个像素的颜色都计算出来，那么这个视角下的图像就被渲染出来了\n",
    "\n",
    "#先在三维空间利用几何关系和内参矩阵K求得表示光线方向的向量；\n",
    "#随后利用外参矩阵将相机坐标系变换到世界坐标系；\n",
    "def sample_rays_np(H,W,f,c2w):\n",
    "    #生成网格点坐标矩阵，i，j分别表示每个像素的坐标，i每一行表示x轴坐标，j每行代表y轴坐标\n",
    "    i,j = np.meshgrid(np.arange(W,dtype=np.float32),np.arange(H,dtype=np.float32),indexing='xy')\n",
    "   ##利用相机内参 K 计算每个像素坐标相对于光心的单位方向   因为Nerf坐标系和 colmap的坐标系相反的\n",
    "    dirs = np.stack([(i-W*.5+.5)/f, -(j-H*.5+.5)/f, -np.ones_like(i)],-1)\n",
    "    # 把光线方向从相机坐标系转移到 世界坐标系。 注意这里d表示的是光线方向，求在世界坐标系的方向\n",
    "    rays_d = np.sum(dirs[...,None,:] * c2w[:3,:3],-1)\n",
    "    #把相机坐标系的原点转变为世界坐标系的原点，其表示为所有光线的起点\n",
    "    rays_o = np.broadcast_to(c2w[:3,-1],np.shape(rays_d))\n",
    "    return rays_o,rays_d"
   ],
   "metadata": {
    "collapsed": false,
    "pycharm": {
     "name": "#%%\n"
    }
   }
  },
  {
   "cell_type": "code",
   "execution_count": 36,
   "outputs": [],
   "source": [
    "\n",
    "def uniform_sample_point(tn,tf,N_samples,device):\n",
    "    k = torch.rand([N_samples],device=device)/ float(N_samples)\n",
    "    pt_value = torch.linspace(0.0,1.0,N_samples+1,device=device)[:-1]\n",
    "    pt_value+=k\n",
    "    return tn+(tf-tn)*pt_value\n"
   ],
   "metadata": {
    "collapsed": false,
    "pycharm": {
     "name": "#%%\n"
    }
   }
  },
  {
   "cell_type": "markdown",
   "source": [],
   "metadata": {
    "collapsed": false
   }
  },
  {
   "cell_type": "code",
   "execution_count": 37,
   "outputs": [],
   "source": [
    "# Hierarchical sampling (section 5.2)\n",
    "# #大概步骤\n",
    "# 1根据pdf粗采样 求 cdf细采样点\n",
    "# 2 做0-1的均匀采样\n",
    "# 3求采样点值在cdf中的对应分块和传播时间\n",
    "# 4求解采样点对应的z_vals\n",
    "# bins        , weights      , N_samples\n",
    "def sample_pdf_point(bins, weights, N_samples, device):\n",
    "    pdf = F.normalize(weights, p=1, dim=-1)\n",
    "    cdf = torch.cumsum(pdf, -1)\n",
    "    cdf = torch.cat([torch.zeros_like(cdf[..., :1]), cdf], -1)\n",
    "\n",
    "    # uniform sampling  归一化后，就是概率密度\n",
    "    u = torch.rand(list(cdf.shape[:-1]) + [N_samples], device=device).contiguous()\n",
    "\n",
    "    # invert\n",
    "    ids = torch.searchsorted(cdf, u, right=True)\n",
    "    below = torch.max(torch.zeros_like(ids - 1, device=device), ids - 1)\n",
    "    above = torch.min((cdf.shape[-1] - 1) * torch.ones_like(ids, device=device), ids)\n",
    "    ids_g = torch.stack([below, above], -1)\n",
    "    # ids_g => (batch, N_samples, 2)\n",
    "\n",
    "    # matched_shape : [batch, N_samples, bins]\n",
    "    matched_shape = [ids_g.shape[0], ids_g.shape[1], cdf.shape[-1]]\n",
    "    # gather cdf value\n",
    "    cdf_val = torch.gather(cdf.unsqueeze(1).expand(matched_shape), -1, ids_g)\n",
    "    # gather z_val\n",
    "    bins_val = torch.gather(bins[None, None, :].expand(matched_shape), -1, ids_g)\n",
    "\n",
    "    # get z_val for the fine sampling 得到精细采样的z值\n",
    "    cdf_d = (cdf_val[..., 1] - cdf_val[..., 0])\n",
    "    cdf_d = torch.where(cdf_d < 1e-5, torch.ones_like(cdf_d, device=device), cdf_d)\n",
    "    t = (u - cdf_val[..., 0]) / cdf_d\n",
    "    samples = bins_val[..., 0] + t * (bins_val[..., 1] - bins_val[..., 0])\n",
    "\n",
    "    return samples"
   ],
   "metadata": {
    "collapsed": false,
    "pycharm": {
     "name": "#%%\n"
    }
   }
  },
  {
   "cell_type": "code",
   "execution_count": 38,
   "outputs": [],
   "source": [
    "def get_rgb_w(net, pts, rays_d, z_vals, device, noise_std=.0, use_view=False):\n",
    "    # pts => tensor(Batch_Size, uniform_N, 3)\n",
    "    # rays_d => tensor(Batch_Size, 3)\n",
    "    # Run network\n",
    "    pts_flat = torch.reshape(pts, [-1, 3])\n",
    "    pts_flat = PE(pts_flat, L=10) #对位置数据进行位置编码操作， 设L=10\n",
    "    dir_flat = None  #方向/视角初始化为空\n",
    "    if use_view:  #如果使用视角数据\n",
    "        dir_flat = F.normalize(torch.reshape(rays_d.unsqueeze(-2).expand_as(pts), [-1, 3]), p=2, dim=-1)\n",
    "        dir_flat = PE(dir_flat, L=4)#同样进行PE操作\n",
    "   #把位置以及方向信息传入网络，返回 rgb以及alpha值\n",
    "    rgb, sigma = net(pts_flat, dir_flat)\n",
    "    rgb = rgb.view(list(pts.shape[:-1]) + [3])\n",
    "    sigma = sigma.view(list(pts.shape[:-1]))\n",
    "\n",
    "    # get the interval\n",
    "    delta = z_vals[..., 1:] - z_vals[..., :-1]\n",
    "    INF = torch.ones(delta[..., :1].shape, device=device).fill_(1e10)\n",
    "    delta = torch.cat([delta, INF], -1)\n",
    "    delta = delta * torch.norm(rays_d, dim=-1, keepdim=True)\n",
    "\n",
    "    # add noise to sigma\n",
    "    if noise_std > 0.:\n",
    "        sigma += torch.randn(sigma.size(), device=device) * noise_std\n",
    "\n",
    "    # get weights   对应数学公式去看\n",
    "    alpha = 1. - torch.exp(-sigma * delta)\n",
    "    ones = torch.ones(alpha[..., :1].shape, device=device)\n",
    "    weights = alpha * torch.cumprod(torch.cat([ones, 1. - alpha], dim=-1), dim=-1)[..., :-1]\n",
    "\n",
    "    return rgb, weights"
   ],
   "metadata": {
    "collapsed": false,
    "pycharm": {
     "name": "#%%\n"
    }
   }
  },
  {
   "cell_type": "code",
   "execution_count": 39,
   "outputs": [],
   "source": [
    "from torch import unsqueeze\n",
    "#net 网络,rays  光线（包含原点以及方向）,bound（范围，理解为近 or远）,N_samples（粗采样点）,device, noise_std=.0,use_view=False\n",
    "def render_rays(net,rays,bound,N_samples,device,noise_std=.0,use_view=False):\n",
    "    rays_o,rays_d =rays\n",
    "    bs = rays_o.shape[0]\n",
    "    near , far = bound #相机视角下场景点离相机中心最近(near)和最远(far)的距离，\n",
    "    # 通过colmap重建的3D稀疏点在各个相机视角下最近和最远的距离得到的\n",
    "    #near和far就是定义了采样区间的最近点和最远点\n",
    "    uniform_N,important_N = N_samples\n",
    "    #得到z轴在边界框的位置\n",
    "    z_vals = uniform_sample_point(near,far,uniform_N,device)\n",
    "    # 位置 = 原点+ 方向* z， 表示为生成光线上每个采样点的位置\n",
    "    pts = rays_o[...,None,:]+ rays_d[...,None,:]*z_vals[...,None]\n",
    "\n",
    "#如果经过了细采样操作  （论文表述是从粗--细采样）\n",
    "    if important_N is not None:\n",
    "        with torch.no_grad():\n",
    "            #获取 color和 weights值\n",
    "            rgb, weights = get_rgb_w(net,pts,rays_d,z_vals,device,noise_std,use_view=use_view)\n",
    "            z_vals_mid = .5*(z_vals[...,1:]+z_vals[...,:-1])\n",
    "            samples = sample_pdf_point([z_vals_mid,weights[...,1:-1],important_N,device])\n",
    "\n",
    "        z_vals = z_vals,unsqueeze(0).expand([bs,uniform_N])\n",
    "        z_vals , _ =torch.sort(torch.cat([z_vals,samples],dim=-1),dim=-1)\n",
    "        pts = rays_o[..., None,:] + rays_d[...,None,:]*z_vals[...,None]\n",
    "\n",
    "#获取color，weights值  后者权重可以理解为每个color对最终成像的贡献度\n",
    "    rgb,weights =get_rgb_w(net,pts,rays_d,z_vals,device,noise_std=noise_std,use_view=use_view)\n",
    "    # 每个 color * 对应的权重---》理解为得到一幅图片，图片上每个点颜色的贡献度、权重都不同，对应有数学公式\n",
    "    rgb_map = torch.sum(weights[...,None]*rgb,dim=2)\n",
    "    # 深度图\n",
    "    depth_map = torch.sum(weights*z_vals,-1)\n",
    "\n",
    "    acc_map = torch.sum(weights,-1)\n",
    "\n",
    "    return  rgb_map,depth_map,acc_map\n"
   ],
   "metadata": {
    "collapsed": false,
    "pycharm": {
     "name": "#%%\n"
    }
   }
  },
  {
   "cell_type": "code",
   "execution_count": 44,
   "outputs": [
    {
     "name": "stdout",
     "output_type": "stream",
     "text": [
      "process rays data\n"
     ]
    },
    {
     "ename": "TypeError",
     "evalue": "tensor(): argument 'device' must be torch.device, not type",
     "output_type": "error",
     "traceback": [
      "\u001B[1;31m---------------------------------------------------------------------------\u001B[0m",
      "\u001B[1;31mTypeError\u001B[0m                                 Traceback (most recent call last)",
      "Cell \u001B[1;32mIn [44], line 21\u001B[0m\n\u001B[0;32m     19\u001B[0m rays_rgb_npy \u001B[38;5;241m=\u001B[39m np\u001B[38;5;241m.\u001B[39mconcatenate(rays_rgb_list,axis\u001B[38;5;241m=\u001B[39m\u001B[38;5;241m0\u001B[39m)\n\u001B[0;32m     20\u001B[0m \u001B[38;5;66;03m#rays = torch.tensor(np.concatenate([rays_o_npy,rays_d_npy,rays_rgb_npy],axis=1),device=device)\u001B[39;00m\n\u001B[1;32m---> 21\u001B[0m rays \u001B[38;5;241m=\u001B[39m \u001B[43mtorch\u001B[49m\u001B[38;5;241;43m.\u001B[39;49m\u001B[43mtensor\u001B[49m\u001B[43m(\u001B[49m\u001B[43mnp\u001B[49m\u001B[38;5;241;43m.\u001B[39;49m\u001B[43mconcatenate\u001B[49m\u001B[43m(\u001B[49m\u001B[43m[\u001B[49m\u001B[43mrays_o_npy\u001B[49m\u001B[43m,\u001B[49m\u001B[43m \u001B[49m\u001B[43mrays_d_npy\u001B[49m\u001B[43m,\u001B[49m\u001B[43m \u001B[49m\u001B[43mrays_rgb_npy\u001B[49m\u001B[43m]\u001B[49m\u001B[43m,\u001B[49m\u001B[43m \u001B[49m\u001B[43maxis\u001B[49m\u001B[38;5;241;43m=\u001B[39;49m\u001B[38;5;241;43m1\u001B[39;49m\u001B[43m)\u001B[49m\u001B[43m,\u001B[49m\u001B[43m \u001B[49m\u001B[43mdevice\u001B[49m\u001B[38;5;241;43m=\u001B[39;49m\u001B[43mdevice\u001B[49m\u001B[43m)\u001B[49m\n",
      "\u001B[1;31mTypeError\u001B[0m: tensor(): argument 'device' must be torch.device, not type"
     ]
    }
   ],
   "source": [
    "from torch import device\n",
    "\n",
    "print(\"process rays data\")\n",
    "#分别用来存放 光线起点，方向，对应的rgb值\n",
    "rays_o_list =list()\n",
    "rays_d_list =list()\n",
    "rays_rgb_list =list()\n",
    "\n",
    "for i in range(n_train):#对100个照片进行依次加载处理\n",
    "    img =images[i]\n",
    "    pose = poses[i]\n",
    "    rays_o,rays_d = sample_rays_np(H,W,focal,pose)#根据每个图及对应位姿、相机信息等生成 光线\n",
    "   #添加进 list列表里面\n",
    "    rays_o_list.append(rays_o.reshape(-1,3))\n",
    "    rays_d_list.append(rays_d.reshape(-1,3))\n",
    "    rays_rgb_list.append(img.reshape(-1,3))\n",
    "#np.concatenate函数对矩阵在第0维度上做合并操作\n",
    "rays_o_npy = np.concatenate(rays_o_list,axis=0)\n",
    "rays_d_npy = np.concatenate(rays_d_list,axis=0)\n",
    "rays_rgb_npy = np.concatenate(rays_rgb_list,axis=0)\n",
    "#将上面三个数据合并成rays变量\n",
    "rays = torch.tensor(np.concatenate([rays_o_npy, rays_d_npy, rays_rgb_npy], axis=1), device=device)"
   ],
   "metadata": {
    "collapsed": false,
    "pycharm": {
     "name": "#%%\n"
    }
   }
  },
  {
   "cell_type": "code",
   "execution_count": 19,
   "outputs": [
    {
     "ename": "NameError",
     "evalue": "name 'rays' is not defined",
     "output_type": "error",
     "traceback": [
      "\u001B[1;31m---------------------------------------------------------------------------\u001B[0m",
      "\u001B[1;31mNameError\u001B[0m                                 Traceback (most recent call last)",
      "Cell \u001B[1;32mIn [19], line 2\u001B[0m\n\u001B[0;32m      1\u001B[0m \u001B[38;5;66;03m#Train\u001B[39;00m\n\u001B[1;32m----> 2\u001B[0m N \u001B[38;5;241m=\u001B[39m \u001B[43mrays\u001B[49m\u001B[38;5;241m.\u001B[39mshape[\u001B[38;5;241m0\u001B[39m]\n\u001B[0;32m      3\u001B[0m Batch_size \u001B[38;5;241m=\u001B[39m \u001B[38;5;241m4096\u001B[39m\n\u001B[0;32m      4\u001B[0m iterations \u001B[38;5;241m=\u001B[39m N\u001B[38;5;241m/\u001B[39m\u001B[38;5;241m/\u001B[39m Batch_size\n",
      "\u001B[1;31mNameError\u001B[0m: name 'rays' is not defined"
     ]
    }
   ],
   "source": [
    "#############################\n",
    "# training parameters\n",
    "#############################   Batch_size = 4096\n",
    "N = rays.shape[0]#光线总数\n",
    "Batch_size = 1024  #batch_size 表示每一批需要处理的光线数量，可以自己结合显卡情况设置\n",
    "iterations = N // Batch_size # 光线总数/每一次处理的光线数量 =处理的批数\n",
    "print(f\"There are {iterations} batches of rays and each batch contains {Batch_size} rays\")\n",
    "\n",
    "bound = (2., 6.)\n",
    "N_samples = (64, None)\n",
    "use_view = True\n",
    "epoch = 10\n",
    "psnr_list = []\n",
    "e_nums = []   #峰值信噪比，是一种评价图像的客观标准\n",
    "\n",
    "#############################\n",
    "# test data\n",
    "############################# 加载测试所需的数据\n",
    "test_rays_o, test_rays_d = sample_rays_np(H, W, focal, test_pose)\n",
    "test_rays_o = torch.tensor(test_rays_o, device=device)\n",
    "test_rays_d = torch.tensor(test_rays_d, device=device)\n",
    "test_rgb = torch.tensor(test_img, device=device)\n",
    "\n",
    "\n",
    "#############################\n",
    "# training\n",
    "#############################\n",
    "net = Nerf(use_view_dirs=use_view).to(device) #创建Nerf MLP网络，并放在GPU上\n",
    "optimizer = torch.optim.Adam(net.parameters(), 5e-4)#定义优化器\n",
    "# #Adam的特点有：\n",
    "# 1、结合了Adagrad善于处理稀疏梯度和RMSprop善于处理非平稳目标的优点;\n",
    "# 2、对内存需求较小;\n",
    "# 3、为不同的参数计算不同的自适应学习率;\n",
    "# 4、也适用于大多非凸优化-适用于大数据集和高维空间。\n",
    "mse = torch.nn.MSELoss() #计算两个输入对应元素差值平方和的均值  ，or表示为可以使用该函数用来计算两个数据的相似性\n",
    "\n",
    "for e in range(epoch):\n",
    "    # create iteration for training\n",
    "    rays = rays[torch.randperm(N), :]#随机获取光线\n",
    "    train_iter = iter(torch.split(rays, Batch_size, dim=0)) #创建训练过程会使用的 迭代器iter\n",
    "\n",
    "    # render + mse\n",
    "    with tqdm(total=iterations, desc=f\"Epoch {e+1}\", ncols=100) as p_bar: #简单理解为设置顺利过程的 进度条\n",
    "        for i in range(iterations):\n",
    "            train_rays = next(train_iter)#获得光线 数据\n",
    "            assert train_rays.shape == (Batch_size, 9) #判断语句 为false会异常\n",
    "#torch.chunk(tensor, chunk_num, dim)将tensor按dim（行或列）分割成chunk_num个tensor块，返回的是一个元组\n",
    "            #这里理解为 把 train_rays 切分为rays_o, rays_d, target_rgb\n",
    "            rays_o, rays_d, target_rgb = torch.chunk(train_rays, 3, dim=-1)\n",
    "            rays_od = (rays_o, rays_d)\n",
    "            #调用render_rays 函数，获取返回的rgb_map,depth_map,acc_map 值。 也就是给定光线，获取其贡献形成的像素，color\n",
    "            rgb, _, __ = render_rays(net, rays_od, bound=bound, N_samples=N_samples, device=device, use_view=use_view)\n",
    "           #调用损失函数，对预测生成的值与真实值进行计算\n",
    "            loss = mse(rgb, target_rgb)\n",
    "            optimizer.zero_grad()#  梯度初始化为零，把loss关于weight的导数变成0\n",
    "            loss.backward()#  loss.backward()\n",
    "            optimizer.step()# optimizer：更新所有参数\n",
    "          #理解为设置进度条，输出每轮迭代计算的损失值\n",
    "            p_bar.set_postfix({'loss': '{0:1.5f}'.format(loss.item())})\n",
    "            p_bar.update(1)\n",
    "#在该模块下，所有计算得出的tensor的requires_grad都自动设置为False。\n",
    "    with torch.no_grad():\n",
    "        rgb_list = list()# 存rgb值\n",
    "        for j in range(test_rays_o.shape[0]):\n",
    "            rays_od = (test_rays_o[j], test_rays_d[j])#把光线原点和方向组合为rays\n",
    "            #返回测试光线的rgb\n",
    "            rgb, _, __ = render_rays(net, rays_od, bound=bound, N_samples=N_samples, device=device, use_view=use_view)\n",
    "            rgb_list.append(rgb.unsqueeze(0))\n",
    "            #把所有rgb值拼接在一起\n",
    "        rgb = torch.cat(rgb_list, dim=0)\n",
    "           #拼接的rhb值  与图片上rgb值 代入损失函数\n",
    "        loss = mse(rgb, torch.tensor(test_img, device=device)).cpu()\n",
    "        #设置 psnr参数 峰值信噪比\n",
    "        psnr = -10. * torch.log(loss).item() / torch.log(torch.tensor([10.]))\n",
    "        print(f\"PSNR={psnr.item()}\")\n",
    "        #显示，描述psnr变化曲线\n",
    "        plt.figure(figsize=(10, 4))\n",
    "        plt.subplot(121)\n",
    "        plt.imshow(rgb.cpu().detach().numpy())\n",
    "        plt.title(f'Epoch: {e + 1}')\n",
    "        plt.subplot(122)\n",
    "\n",
    "        e_nums.append(e+1)\n",
    "        psnr_list.append(psnr.numpy())\n",
    "        plt.plot(e_nums, psnr_list)\n",
    "        plt.title('PSNR')\n",
    "        plt.show()\n",
    "\n",
    "print('Done')\n",
    "net = Nerf(use_view_dirs=True)\n",
    "print(net)"
   ],
   "metadata": {
    "collapsed": false,
    "pycharm": {
     "name": "#%%\n"
    }
   }
  },
  {
   "cell_type": "code",
   "execution_count": null,
   "outputs": [],
   "source": [
    "from ipywidgets import interactive, widgets\n",
    "\n",
    "trans_t = lambda t : np.array([\n",
    "    [1,0,0,0],\n",
    "    [0,1,0,0],\n",
    "    [0,0,1,t],\n",
    "    [0,0,0,1],\n",
    "], dtype=float)\n",
    "\n",
    "rot_phi = lambda phi : np.array([\n",
    "    [1,0,0,0],\n",
    "    [0,np.cos(phi),-np.sin(phi),0],\n",
    "    [0,np.sin(phi), np.cos(phi),0],\n",
    "    [0,0,0,1],\n",
    "], dtype=float)\n",
    "\n",
    "rot_theta = lambda th : np.array([\n",
    "    [np.cos(th),0,-np.sin(th),0],\n",
    "    [0,1,0,0],\n",
    "    [np.sin(th),0, np.cos(th),0],\n",
    "    [0,0,0,1],\n",
    "], dtype=float)\n",
    "\n",
    "\n",
    "def pose_spherical(theta, phi, radius):\n",
    "    c2w = trans_t(radius)\n",
    "    c2w = rot_phi(phi/180.*np.pi) @ c2w\n",
    "    c2w = rot_theta(theta/180.*np.pi) @ c2w\n",
    "    c2w = np.array([[-1,0,0,0],[0,0,1,0],[0,1,0,0],[0,0,0,1]]) @ c2w\n",
    "    return c2w\n",
    "\n",
    "\n",
    "def f(**kwargs):\n",
    "    c2w = pose_spherical(**kwargs)\n",
    "    rays_o, rays_d = sample_rays_np(H, W, focal, c2w[:3,:4])\n",
    "    with torch.no_grad():\n",
    "      rays_o = torch.tensor(rays_o, device=device)\n",
    "      rays_d = torch.tensor(rays_d, device=device)\n",
    "      rgb_list = list()\n",
    "      for j in range(rays_o.shape[0]):\n",
    "        rays_od = (rays_o[j], rays_d[j])\n",
    "        rgb, _, __ = render_rays(net, rays_od, bound=bound, N_samples=N_samples, device=device, use_view=use_view)\n",
    "        rgb_list.append(rgb.unsqueeze(0))\n",
    "      rgb = torch.cat(rgb_list, dim=0)\n",
    "\n",
    "    plt.figure(2, figsize=(20,6))\n",
    "    plt.imshow(rgb.cpu().detach().numpy())\n",
    "    plt.show()\n",
    "\n",
    "\n",
    "sldr = lambda v, mi, ma: widgets.FloatSlider(\n",
    "    value=v,\n",
    "    min=mi,\n",
    "    max=ma,\n",
    "    step=.01,\n",
    ")\n",
    "\n",
    "names = [\n",
    "    ['theta', [100., 0., 360]],\n",
    "    ['phi', [-30., -90, 0]],\n",
    "    ['radius', [4., 3., 5.]],\n",
    "]\n",
    "\n",
    "# interactive_plot = interactive(f, **{s[0] : sldr(*s[1]) for s in names})\n",
    "# output = interactive_plot.children[-1]\n",
    "# output.layout.height = '350px'\n",
    "# interactive_plot"
   ],
   "metadata": {
    "collapsed": false,
    "pycharm": {
     "name": "#%%\n"
    }
   }
  },
  {
   "cell_type": "code",
   "execution_count": null,
   "outputs": [],
   "source": [
    "frames = []\n",
    "for th in tqdm(np.linspace(0., 360., 120, endpoint=False)):\n",
    "    with torch.no_grad():\n",
    "      c2w = pose_spherical(th, -30., 4.)\n",
    "      rays_o, rays_d = sample_rays_np(H, W, focal, c2w[:3,:4])\n",
    "      rays_od = (torch.tensor(rays_o, device=device,dtype=torch.float32),torch.tensor(rays_d, device=device,dtype=torch.float32))\n",
    "      rgb, depth, acc = render_rays(net, rays_od, bound=bound, N_samples=N_samples, device=device, use_view=use_view)\n",
    "    frames.append((255*np.clip(rgb.cpu().numpy(),0,1)).astype(np.uint8))\n",
    "\n",
    "import imageio\n",
    "f = 'video.mp4'\n",
    "imageio.mimwrite(f, frames, fps=30, quality=7)"
   ],
   "metadata": {
    "collapsed": false,
    "pycharm": {
     "name": "#%%\n"
    }
   }
  },
  {
   "cell_type": "code",
   "execution_count": null,
   "outputs": [],
   "source": [
    "from IPython.display import HTML\n",
    "from base64 import b64encode\n",
    "mp4 = open('video.mp4','rb').read()\n",
    "data_url = \"data:video/mp4;base64,\" + b64encode(mp4).decode()\n",
    "HTML(\"\"\"\n",
    "<video width=400 controls autoplay loop>\n",
    "      <source src=\"%s\" type=\"video/mp4\">\n",
    "</video>\n",
    "\"\"\" % data_url)"
   ],
   "metadata": {
    "collapsed": false,
    "pycharm": {
     "name": "#%%\n"
    }
   }
  }
 ],
 "metadata": {
  "kernelspec": {
   "display_name": "Python 3",
   "language": "python",
   "name": "python3"
  },
  "language_info": {
   "codemirror_mode": {
    "name": "ipython",
    "version": 2
   },
   "file_extension": ".py",
   "mimetype": "text/x-python",
   "name": "python",
   "nbconvert_exporter": "python",
   "pygments_lexer": "ipython2",
   "version": "2.7.6"
  }
 },
 "nbformat": 4,
 "nbformat_minor": 0
}